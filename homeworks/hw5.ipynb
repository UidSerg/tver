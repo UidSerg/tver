{
 "cells": [
  {
   "attachments": {},
   "cell_type": "markdown",
   "metadata": {},
   "source": [
    "# Урок 5. Тестирование гипотез\n",
    "\n",
    "1. Когда используется критерий Стьюдента, а когда Z –критерий? Задачи 2,3 решать вручную\n",
    "\n",
    "> В случае известной сигмы генеральной совокупности более предпочтителен Z- критерий, в противном случае -  критерий Стьюдента t.\n",
    " - критерий Стьюдента используется когда выборка не велика\n",
    " - критерий Стьюдента используется для оценки значимости двух выборочных средних\n",
    "\n",
    "2. Проведите тест гипотезы. Утверждается, что шарики для подшипников, изготовленные автоматическим станком, имеют средний диаметр 17 мм.\n",
    "Используя односторонний критерий с α=0,05, проверить эту гипотезу, если в выборке из n=100 шариков средний диаметр оказался равным 17.5 мм,\n",
    " а дисперсия известна и равна 4 кв. мм.\n"
   ]
  },
  {
   "cell_type": "code",
   "execution_count": 29,
   "metadata": {},
   "outputs": [
    {
     "name": "stdout",
     "output_type": "stream",
     "text": [
      "Наблюдаемое значение Zn = 2.5\n"
     ]
    }
   ],
   "source": [
    "xs = 17.5\n",
    "a = 0.05\n",
    "n = 100\n",
    "d = 4\n",
    "u0 = 17\n",
    "Zn = (xs - u0 )/((d/n)**0.5)\n",
    "print(f'Наблюдаемое значение Zn = {Zn}')\n"
   ]
  },
  {
   "attachments": {},
   "cell_type": "markdown",
   "metadata": {},
   "source": [
    "Zt(1-a) = 1,6449 \n",
    "Zn>Zt значит гипотеза, что шарики имеют средний диаметр 17мм не верна"
   ]
  },
  {
   "attachments": {},
   "cell_type": "markdown",
   "metadata": {},
   "source": [
    "3. Проведите тест гипотезы. Продавец утверждает, что средний вес пачки печенья составляет 200 г.\n",
    " Из партии извлечена выборка из 10 пачек.\n",
    "  Вес каждой пачки составляет: 202, 203, 199, 197, 195, 201, 200, 204, 194, 190.\n",
    "   Известно, что их веса распределены нормально. Верно ли утверждение продавца, если учитывать, что доверительная вероятность равна 99%? (Провести двусторонний тест.)\n",
    "   "
   ]
  },
  {
   "cell_type": "code",
   "execution_count": 30,
   "metadata": {},
   "outputs": [
    {
     "name": "stdout",
     "output_type": "stream",
     "text": [
      "198.5\n",
      "4.453463071962462\n",
      "10\n",
      "Найденное значение tn = -1.0651074037450896\n"
     ]
    }
   ],
   "source": [
    "import numpy as np\n",
    "x = np.array([202, 203, 199, 197, 195, 201, 200, 204, 194, 190])\n",
    "print(np.mean(x))\n",
    "print(np.std(x, ddof=1))\n",
    "print(len(x))\n",
    "tn=(np.mean(x)-200)/(np.std(x,ddof=1)/len(x)**0.5)\n",
    "print(f'Найденное значение tn = {tn}')"
   ]
  },
  {
   "attachments": {},
   "cell_type": "markdown",
   "metadata": {},
   "source": [
    "найдем t табличное a = 1-99%, т.к распределение нормальное отсекаем процент с 2х сторон a/2 =0.005 "
   ]
  },
  {
   "cell_type": "code",
   "execution_count": 31,
   "metadata": {},
   "outputs": [
    {
     "name": "stdout",
     "output_type": "stream",
     "text": [
      "Табличное значение t-критерия: 3.2498355440153697\n"
     ]
    }
   ],
   "source": [
    "import scipy.stats as stats\n",
    "tt=stats.t.ppf(0.995,len(x)-1)\n",
    "print(f'Табличное значение t-критерия: {tt}')"
   ]
  },
  {
   "attachments": {},
   "cell_type": "markdown",
   "metadata": {},
   "source": [
    "|tn| < tt значит гипотеза верна. Средний вес пачки печенья составляет 200 г."
   ]
  },
  {
   "attachments": {},
   "cell_type": "markdown",
   "metadata": {},
   "source": [
    "Задачу 4 решать с помощью функции.\n",
    "4. Есть ли статистически значимые различия в росте дочерей?\n",
    "Рост матерей 172, 177, 158, 170, 178,175, 164, 160, 169, 165\n",
    "Рост взрослых дочерей: 173, 175, 162, 174, 175, 168, 155, 170, 160"
   ]
  },
  {
   "cell_type": "code",
   "execution_count": 32,
   "metadata": {},
   "outputs": [
    {
     "name": "stdout",
     "output_type": "stream",
     "text": [
      "TtestResult(statistic=0.24400587215969016, pvalue=0.8101467126543233, df=17.0)\n",
      "d1=48.17777777777778, d2=54.0\n",
      "m1=168.8, m2=168.0\n",
      "51.08888888888889\n",
      "0.25027170967698004\n"
     ]
    }
   ],
   "source": [
    "import numpy as np\n",
    "import scipy.stats as stats\n",
    "x = np.array([172, 177, 158, 170, 178, 175, 164, 160, 169, 165])\n",
    "y = np.array([173, 175, 162, 174, 175, 168, 155, 170, 160])\n",
    "print(stats.ttest_ind(x,y))\n",
    "d1 = np.var(x, ddof=1)\n",
    "d2 = np.var(y, ddof=1)\n",
    "print(f'd1={d1}, d2={d2}')\n",
    "m1= np.mean(x)\n",
    "m2= np.mean(y)\n",
    "print(f'm1={m1}, m2={m2}')\n",
    "D= (d1+d2)*0.5\n",
    "print(D)\n",
    "t= (m1-m2)/ (2*D/len(x))**0.5\n",
    "print(t) "
   ]
  },
  {
   "attachments": {},
   "cell_type": "markdown",
   "metadata": {},
   "source": [
    "a = 0.05 - стандартный уровень статистической значимости,\n",
    "\n",
    "pvalue = 0.8105 > a => принимаем нулевую гипотезу, т.е Статистически значимых различий в росте матерей и дочерей нет"
   ]
  }
 ],
 "metadata": {
  "kernelspec": {
   "display_name": "Python 3",
   "language": "python",
   "name": "python3"
  },
  "language_info": {
   "codemirror_mode": {
    "name": "ipython",
    "version": 3
   },
   "file_extension": ".py",
   "mimetype": "text/x-python",
   "name": "python",
   "nbconvert_exporter": "python",
   "pygments_lexer": "ipython3",
   "version": "3.11.3"
  },
  "orig_nbformat": 4
 },
 "nbformat": 4,
 "nbformat_minor": 2
}
