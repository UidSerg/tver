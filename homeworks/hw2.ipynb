{
 "cells": [
  {
   "cell_type": "markdown",
   "metadata": {},
   "source": [
    "# Урок 2. Дискретные распределения вероятностей"
   ]
  },
  {
   "cell_type": "markdown",
   "metadata": {},
   "source": [
    "1. Вероятность того, что стрелок попадет в мишень, выстрелив один раз, равна 0.8. Стрелок выстрелил 100 раз. Найдите вероятность того, что стрелок попадет в цель ровно 85 раз."
   ]
  },
  {
   "cell_type": "code",
   "execution_count": 3,
   "metadata": {},
   "outputs": [
    {
     "name": "stdout",
     "output_type": "stream",
     "text": [
      "0.048061793700746355\n",
      "0.03526417058431812\n"
     ]
    }
   ],
   "source": [
    "from math import factorial\n",
    "# хотим проверить что событие произойдет k раз из n\n",
    "def comb(n, k):\n",
    "    return factorial(n)/(factorial(k)*factorial(n-k))\n",
    "# P(n,k) = C(n,k) * p **k * q**(n-k)\n",
    "def bernuli(n,p,k):\n",
    "    return comb(n,k)*p**k*(1-p)**(n-k)\n",
    "p  = 0.8\n",
    "n = 100\n",
    "k = 85\n",
    "rez_1 = bernuli(n,p,k) #4.80%\n",
    "print(rez_1)\n",
    "# P(k) = l**k/k!*e**(-l)\n",
    "l = p*n\n",
    "rez_2 = l**k/factorial(k)*2.72**(-l)\n",
    "print(rez_2)"
   ]
  },
  {
   "cell_type": "markdown",
   "metadata": {},
   "source": [
    "2. Вероятность того, что лампочка перегорит в течение первого дня эксплуатации, равна 0.0004. В жилом комплексе после ремонта в один день включили 5000 новых лампочек. Какова вероятность, что ни одна из них не перегорит в первый день? Какова вероятность, что перегорят ровно две?"
   ]
  },
  {
   "cell_type": "code",
   "execution_count": 4,
   "metadata": {},
   "outputs": [
    {
     "name": "stdout",
     "output_type": "stream",
     "text": [
      "0.13516435986159167\n",
      "0.27032871972318334\n"
     ]
    }
   ],
   "source": [
    "p = 0.0004\n",
    "n = 5000\n",
    "k1 = 0\n",
    "k2 = 2\n",
    "l = p*n\n",
    "zd2_rez1 = l**k1/factorial(k1)*2.72**(-l)\n",
    "print(zd2_rez1) #13.51%\n",
    "zd2_rez2 = l**k2/factorial(k2)*2.72**(-l)\n",
    "print(zd2_rez2) #27.03%"
   ]
  },
  {
   "cell_type": "markdown",
   "metadata": {},
   "source": [
    "3. Монету подбросили 144 раза. Какова вероятность, что орел выпадет ровно 70 раз?"
   ]
  },
  {
   "cell_type": "code",
   "execution_count": 8,
   "metadata": {},
   "outputs": [
    {
     "name": "stdout",
     "output_type": "stream",
     "text": [
      "Вероятность выпадения орла 70 раз из 144 = 0.06281178035144776\n"
     ]
    }
   ],
   "source": [
    "n = 144\n",
    "k = 70\n",
    "p = 0.5\n",
    "zd3 = bernuli(n,p,k)\n",
    "print(f'Вероятность выпадения орла 70 раз из 144 = {zd3}') # 6.28%"
   ]
  },
  {
   "cell_type": "markdown",
   "metadata": {},
   "source": [
    "4. В первом ящике находится 10 мячей, из которых 7 - белые. Во втором ящике - 11 мячей, из которых 9 белых. Из каждого ящика вытаскивают случайным образом по два мяча. Какова вероятность того, что все мячи белые? Какова вероятность того, что ровно два мяча белые? Какова вероятность того, что хотя бы один мяч белый?"
   ]
  },
  {
   "cell_type": "code",
   "execution_count": 26,
   "metadata": {},
   "outputs": [
    {
     "name": "stdout",
     "output_type": "stream",
     "text": [
      "1. Вероятность вытащить все белые мячи = 0.3055\n",
      "2. Вероятность вытащить 2 белых мяча = 0.0485\n",
      "3. Вероятность вытащить хотябы 1 белый мяч = 0.998\n"
     ]
    }
   ],
   "source": [
    "p1 = comb(7,2)/comb(10,2) # вероятность белого мяча из корзины 1\n",
    "p2 = comb(9,2)/comb(11,2) # вероятность белого мяча из корзины 2\n",
    "p = p1*p2\n",
    "print(f'1. Вероятность вытащить все белые мячи = {round(p,4)}')\n",
    "# 2 белых мяча\n",
    "# 2 мяча из первой корзмны и 0 из второй корзины или(+) 1 из к1 и 1 из к2 или(+) 0 из первой корзины 2 из второй\n",
    "p = comb(7,2)/comb(10,2)*comb(9,0)/comb(11,2)+comb(7,1)/comb(10,2)*comb(9,1)/comb(11,2)+comb(7,0)/comb(10,2)*comb(9,2)/comb(11,2)\n",
    "print(f'2. Вероятность вытащить 2 белых мяча = {round(p,4)}')\n",
    "# хотябы один мяч белый, т.е 1,2,3,4 посчитаем вероятность хотябы одного черного и вычтем из 1\n",
    "p = comb(3,1)/comb(10,2)*comb(2,0)/comb(11,2)+comb(3,0)/comb(10,2)*comb(2,1)/comb(11,2)\n",
    "print(f'3. Вероятность вытащить хотябы 1 белый мяч = {round(1-p,4)}')"
   ]
  }
 ],
 "metadata": {
  "kernelspec": {
   "display_name": "Python 3",
   "language": "python",
   "name": "python3"
  },
  "language_info": {
   "codemirror_mode": {
    "name": "ipython",
    "version": 3
   },
   "file_extension": ".py",
   "mimetype": "text/x-python",
   "name": "python",
   "nbconvert_exporter": "python",
   "pygments_lexer": "ipython3",
   "version": "3.11.4"
  }
 },
 "nbformat": 4,
 "nbformat_minor": 2
}
