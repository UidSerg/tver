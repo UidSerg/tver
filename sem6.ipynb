{
 "cells": [
  {
   "cell_type": "code",
   "execution_count": 1,
   "metadata": {},
   "outputs": [
    {
     "name": "stdout",
     "output_type": "stream",
     "text": [
      "-0.14906644200780345 0.3933846238259852\n",
      "1.8114366123376808 2.188563387662319\n",
      "1.774884346453975 2.225115653546025\n"
     ]
    }
   ],
   "source": [
    "from scipy import stats\n",
    "m1 = 17\n",
    "m2 = 9\n",
    "n1 = 32\n",
    "n2 = 22\n",
    "p1 = m1 / n1\n",
    "p2 = m2 / n2\n",
    "delta = p1 - p2 #нашли разность долей\n",
    "z_table = stats.norm.ppf(0.975) #norm для критерия z, t для критерия Стьюдента\n",
    "P = (m1 + m2) / (n1 + n2)\n",
    "se = (P * (1 - P) * (1 / n1 + 1 / n2)) ** 0.5\n",
    "\n",
    "print(delta - z_table * se, delta + z_table * se)\n",
    "\n",
    "\n",
    "x = 2\n",
    "n = 151\n",
    "std_1 = 1.4\n",
    "t_table_1 = stats.t.ppf(0.95, n - 1) #критерий для 90% интервала\n",
    "t_table_2 = stats.t.ppf(0.975, n - 1) #критерий для 95% интервала\n",
    "print(x - t_table_1 * std_1 / n ** 0.5, x + t_table_1 * std_1 / n ** 0.5)\n",
    "print(x - t_table_2 * std_1 / n ** 0.5, x + t_table_2 * std_1 / n ** 0.5)"
   ]
  },
  {
   "cell_type": "code",
   "execution_count": 2,
   "metadata": {},
   "outputs": [
    {
     "name": "stdout",
     "output_type": "stream",
     "text": [
      "-0.14906644200780345 0.3933846238259852\n"
     ]
    }
   ],
   "source": [
    "from scipy import stats\n",
    "m1 = 17\n",
    "m2 = 9\n",
    "n1 = 32\n",
    "n2 = 22\n",
    "p1 = m1 / n1\n",
    "p2 = m2 / n2\n",
    "delta = p1 - p2 #нашли разность долей\n",
    "z_table = stats.norm.ppf(0.975) #norm для критерия z, t для критерия Стьюдента\n",
    "P = (m1 + m2) / (n1 + n2)\n",
    "se = (P * (1 - P) * (1 / n1 + 1 / n2)) ** 0.5\n",
    "\n",
    "print(delta - z_table * se, delta + z_table * se)"
   ]
  }
 ],
 "metadata": {
  "kernelspec": {
   "display_name": "Python 3",
   "language": "python",
   "name": "python3"
  },
  "language_info": {
   "codemirror_mode": {
    "name": "ipython",
    "version": 3
   },
   "file_extension": ".py",
   "mimetype": "text/x-python",
   "name": "python",
   "nbconvert_exporter": "python",
   "pygments_lexer": "ipython3",
   "version": "3.11.3"
  }
 },
 "nbformat": 4,
 "nbformat_minor": 2
}
