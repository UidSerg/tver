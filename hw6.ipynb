{
 "cells": [
  {
   "attachments": {},
   "cell_type": "markdown",
   "metadata": {},
   "source": [
    "# Урок 6. Сравнение долей. Построение доверительного интервала\n",
    "\n",
    "1. Известно, что генеральная совокупность распределена нормально со средним квадратическим отклонением, равным 16. Найти доверительный интервал для оценки математического ожидания a с надежностью 0.95, если выборочная средняя M = 80, а объем выборки n = 256.\n"
   ]
  },
  {
   "cell_type": "code",
   "execution_count": 29,
   "metadata": {},
   "outputs": [
    {
     "name": "stdout",
     "output_type": "stream",
     "text": [
      "Интервал [78.04 - 81.96]\n"
     ]
    }
   ],
   "source": [
    "import numpy as np\n",
    "import scipy.stats as stats\n",
    "o = 16\n",
    "M = 80 ## = x\n",
    "n = 256\n",
    "a = 0.95\n",
    "# x +/- z(a/2)*o/n**0.5 \n",
    "print (f'Интервал [{round(M - stats.norm.ppf(0.975)*o/n**0.5, 4)} - {round(M + stats.norm.ppf(0.975)*o/n**0.5, 4)}]')"
   ]
  },
  {
   "attachments": {},
   "cell_type": "markdown",
   "metadata": {},
   "source": [
    "2. В результате 10 независимых измерений некоторой величины X, выполненных с одинаковой точностью, получены опытные данные: 6.9, 6.1, 6.2, 6.8, 7.5, 6.3, 6.4, 6.9, 6.7, 6.1 Предполагая, что результаты измерений подчинены нормальному закону распределения вероятностей, оценить истинное значение величины X при помощи доверительного интервала, покрывающего это значение с доверительной вероятностью 0,95."
   ]
  },
  {
   "cell_type": "code",
   "execution_count": 30,
   "metadata": {},
   "outputs": [
    {
     "name": "stdout",
     "output_type": "stream",
     "text": [
      "Размер выборки n=10\n",
      "Среднее выборочное: 6.590000000000001\n",
      "Среднее квадратическое отклонение по выборке: 0.4508017549014448\n",
      "95% Интервал [6.267515851415713 - 6.912484148584288]\n"
     ]
    }
   ],
   "source": [
    "x = np.array([6.9, 6.1, 6.2, 6.8, 7.5, 6.3, 6.4, 6.9, 6.7, 6.1])\n",
    "print(f'Размер выборки n={len(x)}')\n",
    "print(f'Среднее выборочное: {np.mean(x)}')\n",
    "print(f'Среднее квадратическое отклонение по выборке: {np.std(x, ddof=1)}')\n",
    "print(f'95% Интервал [{np.mean(x) - stats.t.ppf(0.975, len(x)-1)*np.std(x, ddof=1)/len(x)**0.5} - {np.mean(x) + stats.t.ppf(0.975, len(x)-1)*np.std(x, ddof=1)/len(x)**0.5}]')"
   ]
  },
  {
   "attachments": {},
   "cell_type": "markdown",
   "metadata": {},
   "source": [
    "3. Рост дочерей 175, 167, 154, 174, 178, 148, 160, 167, 169, 170\n",
    "\n",
    "Рост матерей  178, 165, 165, 173, 168, 155, 160, 164, 178, 175 Используя эти данные построить 95% доверительный интервал для разности среднего роста родителей и детей."
   ]
  },
  {
   "cell_type": "code",
   "execution_count": 31,
   "metadata": {},
   "outputs": [
    {
     "name": "stdout",
     "output_type": "stream",
     "text": [
      "95% Интервал [-6.2684 - 10.0684]\n"
     ]
    }
   ],
   "source": [
    "x = np.array([178, 165, 165, 173, 168, 155, 160, 164, 178, 175]) ## рост матерей\n",
    "y = np.array([175, 167, 154, 174, 178, 148, 160, 167, 169, 170]) ## рост дочерей\n",
    "delta = np.mean(x)- np.mean(y) \n",
    "se = np.sqrt(np.var(x, ddof=1)/len(x) + np.var(y, ddof=1)/len(y))\n",
    "t = stats.t.ppf(0.975, len(x) + len(y) - 2)\n",
    "# delta +/- t*se \n",
    "print (f'95% Интервал [{round(delta - se*t, 4)} - {round(delta + se*t, 4)}]')"
   ]
  }
 ],
 "metadata": {
  "kernelspec": {
   "display_name": "Python 3",
   "language": "python",
   "name": "python3"
  },
  "language_info": {
   "codemirror_mode": {
    "name": "ipython",
    "version": 3
   },
   "file_extension": ".py",
   "mimetype": "text/x-python",
   "name": "python",
   "nbconvert_exporter": "python",
   "pygments_lexer": "ipython3",
   "version": "3.11.3"
  },
  "orig_nbformat": 4
 },
 "nbformat": 4,
 "nbformat_minor": 2
}
