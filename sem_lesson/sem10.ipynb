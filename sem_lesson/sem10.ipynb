{
  "cells": [
    {
      "cell_type": "markdown",
      "metadata": {
        "id": "QYK6iSwmcDmw"
      },
      "source": [
        "## Задача 1"
      ]
    },
    {
      "cell_type": "code",
      "execution_count": 4,
      "metadata": {
        "id": "ac921sZuaq1j"
      },
      "outputs": [],
      "source": [
        "import numpy as np\n",
        "\n",
        "\n",
        "pu_238 = np.array([0.126, 0.133, 0.127, 0.156, 0.503, 0.113, 0.129, 0.124, 1.022, 1.412, 1.533, 1.534, 1.437, 1.439, 1.375, 1.153, 0.201, 0.176, 0.239, 0.102, 1.070, 0.851, 0.125, 0.142, 0.352, 0.351, 0.346, 0.217, 1.068, 1.171, 1.213, 1.226, 1.111, 0.183, 0.162, 0.113, 1.309, 1.638, 1.589, 1.411, 1.457, 0.397, 0.328, 0.242, 1.367])\n",
        "pu_239 = np.array([75.804, 75.515, 75.175, 78.872, 73.317, 79.116, 75.751, 75.326, 63.287, 59.553, 58.688, 58.758, 59.728, 59.544, 59.877, 61.182, 78.244, 78.166, 74.254, 79.840, 62.455, 73.189, 75.968, 75.957, 72.885,72.907, 72.919, 76.089, 70.129, 69.273, 69.147, 68.294, 71.076, 75.714, 76.150, 77.845, 62.382, 60.112, 60.519, 61.585, 61.332, 72.291, 73.451, 74.888, 60.507])\n",
        "pu_240 = np.array([21.204, 21.408, 21.668, 18.428, 20.223, 18.548, 21.162, 21.557, 24.493, 25.576, 25.719, 25.692, 25.146, 25.126, 25.128, 25.100, 18.488, 18.629, 21.515, 17.872, 24.656, 18.285, 20.794, 20.867, 21.718, 21.721, 21.713, 20.225, 18.573, 18.633, 18.640,18.869, 18.122, 20.750, 20.345, 19.108, 22.754, 23.320, 23.128, 23.133, 23.239, 21.761, 21.429, 20.939, 23.603])\n",
        "pu_241 = np.array([2.180, 2.240, 2.305, 1.906, 4.128, 1.690, 2.260, 2.282, 6.990, 8.027, 8.279, 8.261, 8.377, 8.569, 8.428, 7.802, 2.351, 2.365, 2.901, 1.674, 7.512, 5.597, 2.407, 2.341, 3.618, 3.601, 3.600, 2.556, 7.689, 8.300, 8.363, 8.826, 7.248, 2.488, 2.524, 2.275, 9.311, 9.972, 9.970, 9.339, 9.321, 3.836, 3.419, 2.875, 9.839])"
      ]
    },
    {
      "cell_type": "code",
      "execution_count": 5,
      "metadata": {
        "colab": {
          "base_uri": "https://localhost:8080/"
        },
        "id": "8MNxWh2ma8xG",
        "outputId": "a256fe56-edee-4839-efd2-2fc6c8407d1a"
      },
      "outputs": [
        {
          "data": {
            "text/plain": [
              "(45, 45, 45, 45)"
            ]
          },
          "execution_count": 5,
          "metadata": {},
          "output_type": "execute_result"
        }
      ],
      "source": [
        "len(pu_238), len(pu_239), len(pu_240), len(pu_241)"
      ]
    },
    {
      "cell_type": "code",
      "execution_count": 6,
      "metadata": {
        "colab": {
          "base_uri": "https://localhost:8080/"
        },
        "id": "lyZCg04BbESF",
        "outputId": "55b22c6b-3699-4a1b-c85e-f7db06e64bc7"
      },
      "outputs": [
        {
          "data": {
            "text/plain": [
              "BartlettResult(statistic=193.1803716617602, pvalue=1.2547805439253745e-41)"
            ]
          },
          "execution_count": 6,
          "metadata": {},
          "output_type": "execute_result"
        }
      ],
      "source": [
        "import scipy.stats as stats\n",
        "\n",
        "\n",
        "stats.bartlett(pu_238, pu_239, pu_240, pu_241)"
      ]
    },
    {
      "cell_type": "code",
      "execution_count": 7,
      "metadata": {
        "colab": {
          "base_uri": "https://localhost:8080/"
        },
        "id": "diuaogGFb3wH",
        "outputId": "b20c6274-9727-4f5e-865f-a107f91069a1"
      },
      "outputs": [
        {
          "data": {
            "text/plain": [
              "KruskalResult(statistic=167.8178522154513, pvalue=3.76478949748032e-36)"
            ]
          },
          "execution_count": 7,
          "metadata": {},
          "output_type": "execute_result"
        }
      ],
      "source": [
        "stats.kruskal(pu_238, pu_239, pu_240, pu_241)"
      ]
    },
    {
      "cell_type": "markdown",
      "metadata": {
        "id": "rs6-JSumcIqy"
      },
      "source": [
        "## Задача 2\n",
        "\n",
        "Даны квартальные прибыли акции Johnson&Johnson с 1960-1980 гг\n",
        "Есть ли различия прибыли между 4-мя кварталами?\n",
        "\n",
        "\n",
        "Провести EDA (проверка на нормальность, проверка на однородность дисперсий с помощью Барлетт теста\n",
        "from scipy.stats import bartlett)\n",
        "\n",
        "\n",
        "Учитывайте при выборе теста тот факт, что при сбалансированных данных (выборки одинакового объема),\n",
        "неоднородность дисперсий слабо влияет на результат)\n",
        "\n",
        "\n",
        "JJ_1=np.array([0.71, 0.63, 0.85, 0.44, 0.61, 0.69, 0.92, 0.55, 0.72, 0.77, 0.92, 0.60, 0.83, 0.80, 1.00, 0.77, 0.92, 1.00, 1.24, 1.00, 1.16 ])\n",
        "\n",
        "\n",
        "JJ_2=np.array([1.30, 1.45, 1.25, 1.26, 1.38, 1.86, 1.56, 1.53, 1.59, 1.83, 1.86, 1.53, 2.07, 2.34, 2.25, 2.16, 2.43, 2.70, 2.25, 2.79, 3.42 ])\n",
        "\n",
        "\n",
        "JJ_3=np.array([3.69, 3.60, 3.60, 4.32, 4.32, 4.05, 4.86, 5.04, 5.04, 4.41, 5.58, 5.85, 6.57, 5.31, 6.03, 6.39, 6.93, 5.85, 6.93, 7.74, 7.83])\n",
        "\n",
        "\n",
        "JJ_4=np.array([6.12, 7.74, 8.91, 8.28, 6.84, 9.54, 10.26, 9.54, 8.73, 11.88, 12.06, 12.15, 8.91, 14.04, 12.96, 14.85, 9.99, 16.20, 14.67, 16.02, 11.61 ])"
      ]
    },
    {
      "cell_type": "code",
      "execution_count": 8,
      "metadata": {
        "id": "8lgHXLDpcOes"
      },
      "outputs": [],
      "source": [
        "JJ_1=np.array([0.71, 0.63, 0.85, 0.44, 0.61, 0.69, 0.92, 0.55, 0.72, 0.77, 0.92, 0.60, 0.83, 0.80, 1.00, 0.77, 0.92, 1.00, 1.24, 1.00, 1.16 ])\n",
        "\n",
        "JJ_2=np.array([1.30, 1.45, 1.25, 1.26, 1.38, 1.86, 1.56, 1.53, 1.59, 1.83, 1.86, 1.53, 2.07, 2.34, 2.25, 2.16, 2.43, 2.70, 2.25, 2.79, 3.42 ])\n",
        "\n",
        "JJ_3=np.array([3.69, 3.60, 3.60, 4.32, 4.32, 4.05, 4.86, 5.04, 5.04, 4.41, 5.58, 5.85, 6.57, 5.31, 6.03, 6.39, 6.93, 5.85, 6.93, 7.74, 7.83])\n",
        "\n",
        "JJ_4=np.array([6.12, 7.74, 8.91, 8.28, 6.84, 9.54, 10.26, 9.54, 8.73, 11.88, 12.06, 12.15, 8.91, 14.04, 12.96, 14.85, 9.99, 16.20, 14.67, 16.02, 11.61 ])"
      ]
    },
    {
      "cell_type": "code",
      "execution_count": 9,
      "metadata": {
        "colab": {
          "base_uri": "https://localhost:8080/"
        },
        "id": "Wf2HWX_dcqQQ",
        "outputId": "e2044461-aafb-4c27-eec4-08b51edaa254"
      },
      "outputs": [
        {
          "data": {
            "text/plain": [
              "ShapiroResult(statistic=0.9837694764137268, pvalue=0.9688350558280945)"
            ]
          },
          "execution_count": 9,
          "metadata": {},
          "output_type": "execute_result"
        }
      ],
      "source": [
        "# нормальность 1\n",
        "stats.shapiro(JJ_1)"
      ]
    },
    {
      "cell_type": "code",
      "execution_count": 10,
      "metadata": {
        "colab": {
          "base_uri": "https://localhost:8080/"
        },
        "id": "ezJl4BaKc_QZ",
        "outputId": "5d25f571-424e-4d5a-e59e-cde1066d7ff7"
      },
      "outputs": [
        {
          "data": {
            "text/plain": [
              "ShapiroResult(statistic=0.9252575635910034, pvalue=0.11057926714420319)"
            ]
          },
          "execution_count": 10,
          "metadata": {},
          "output_type": "execute_result"
        }
      ],
      "source": [
        "# нормальность 2\n",
        "stats.shapiro(JJ_2)"
      ]
    },
    {
      "cell_type": "code",
      "execution_count": 11,
      "metadata": {
        "colab": {
          "base_uri": "https://localhost:8080/"
        },
        "id": "3Q5JLVXZc_6n",
        "outputId": "b540c53a-6e33-4227-88b2-d0d52ce60ad2"
      },
      "outputs": [
        {
          "data": {
            "text/plain": [
              "ShapiroResult(statistic=0.9523218274116516, pvalue=0.37654614448547363)"
            ]
          },
          "execution_count": 11,
          "metadata": {},
          "output_type": "execute_result"
        }
      ],
      "source": [
        "# нормальность 3\n",
        "stats.shapiro(JJ_3)"
      ]
    },
    {
      "cell_type": "code",
      "execution_count": 12,
      "metadata": {
        "colab": {
          "base_uri": "https://localhost:8080/"
        },
        "id": "MQGk4wIcdAI-",
        "outputId": "4aa7ae6a-9456-4bca-8ea2-f7caedd2df29"
      },
      "outputs": [
        {
          "data": {
            "text/plain": [
              "ShapiroResult(statistic=0.9590807557106018, pvalue=0.49780404567718506)"
            ]
          },
          "execution_count": 12,
          "metadata": {},
          "output_type": "execute_result"
        }
      ],
      "source": [
        "# нормальность 4\n",
        "stats.shapiro(JJ_4)"
      ]
    },
    {
      "cell_type": "code",
      "execution_count": 13,
      "metadata": {
        "colab": {
          "base_uri": "https://localhost:8080/"
        },
        "id": "diW9S8Z_cuhI",
        "outputId": "7d64e06f-24aa-42b0-8961-2bb1025fcb72"
      },
      "outputs": [
        {
          "data": {
            "text/plain": [
              "BartlettResult(statistic=109.62893110687119, pvalue=1.3188378332498392e-23)"
            ]
          },
          "execution_count": 13,
          "metadata": {},
          "output_type": "execute_result"
        }
      ],
      "source": [
        "# проверка на равенство дисперсий\n",
        "stats.bartlett(JJ_1, JJ_2, JJ_3, JJ_4)"
      ]
    },
    {
      "cell_type": "code",
      "execution_count": 14,
      "metadata": {
        "colab": {
          "base_uri": "https://localhost:8080/"
        },
        "id": "d3wapjSjc0F3",
        "outputId": "22dd5c59-a7da-4b9c-e9ad-3d847e144ca8"
      },
      "outputs": [
        {
          "data": {
            "text/plain": [
              "F_onewayResult(statistic=162.03157448390618, pvalue=6.813074435306209e-34)"
            ]
          },
          "execution_count": 14,
          "metadata": {},
          "output_type": "execute_result"
        }
      ],
      "source": [
        "# ANOVA\n",
        "stats.f_oneway(JJ_1, JJ_2, JJ_3, JJ_4)"
      ]
    },
    {
      "cell_type": "code",
      "execution_count": 15,
      "metadata": {
        "colab": {
          "base_uri": "https://localhost:8080/"
        },
        "id": "nHuwZk1VdVQG",
        "outputId": "88589260-0b0a-4843-c43f-f83eb9be5628"
      },
      "outputs": [
        {
          "data": {
            "text/plain": [
              "KruskalResult(statistic=77.04853477998796, pvalue=1.318184789753617e-16)"
            ]
          },
          "execution_count": 15,
          "metadata": {},
          "output_type": "execute_result"
        }
      ],
      "source": [
        "stats.kruskal(JJ_1, JJ_2, JJ_3, JJ_4)"
      ]
    },
    {
      "cell_type": "code",
      "execution_count": 16,
      "metadata": {
        "colab": {
          "base_uri": "https://localhost:8080/"
        },
        "id": "_6NX23-xdmQH",
        "outputId": "053d495f-916f-45e3-8b4a-b480c512586e"
      },
      "outputs": [
        {
          "data": {
            "text/plain": [
              "21"
            ]
          },
          "execution_count": 16,
          "metadata": {},
          "output_type": "execute_result"
        }
      ],
      "source": [
        "len(JJ_1)"
      ]
    },
    {
      "cell_type": "markdown",
      "metadata": {
        "id": "YNea4lS1dymK"
      },
      "source": [
        "## Задача 3\n",
        "\n",
        "\n",
        "Провести post hoc tests к задаче 2\n",
        "\n",
        "\n",
        "Между какими группами не обнаружено статистически значимых различий?"
      ]
    },
    {
      "cell_type": "code",
      "execution_count": 17,
      "metadata": {
        "colab": {
          "base_uri": "https://localhost:8080/",
          "height": 423
        },
        "id": "4bB2WlHkd3F8",
        "outputId": "823741fe-00b7-4c3c-e5ac-73570e064a38"
      },
      "outputs": [
        {
          "data": {
            "text/html": [
              "<div>\n",
              "<style scoped>\n",
              "    .dataframe tbody tr th:only-of-type {\n",
              "        vertical-align: middle;\n",
              "    }\n",
              "\n",
              "    .dataframe tbody tr th {\n",
              "        vertical-align: top;\n",
              "    }\n",
              "\n",
              "    .dataframe thead th {\n",
              "        text-align: right;\n",
              "    }\n",
              "</style>\n",
              "<table border=\"1\" class=\"dataframe\">\n",
              "  <thead>\n",
              "    <tr style=\"text-align: right;\">\n",
              "      <th></th>\n",
              "      <th>profit</th>\n",
              "      <th>columns</th>\n",
              "    </tr>\n",
              "  </thead>\n",
              "  <tbody>\n",
              "    <tr>\n",
              "      <th>0</th>\n",
              "      <td>0.71</td>\n",
              "      <td>JJ_1</td>\n",
              "    </tr>\n",
              "    <tr>\n",
              "      <th>1</th>\n",
              "      <td>0.63</td>\n",
              "      <td>JJ_1</td>\n",
              "    </tr>\n",
              "    <tr>\n",
              "      <th>2</th>\n",
              "      <td>0.85</td>\n",
              "      <td>JJ_1</td>\n",
              "    </tr>\n",
              "    <tr>\n",
              "      <th>3</th>\n",
              "      <td>0.44</td>\n",
              "      <td>JJ_1</td>\n",
              "    </tr>\n",
              "    <tr>\n",
              "      <th>4</th>\n",
              "      <td>0.61</td>\n",
              "      <td>JJ_1</td>\n",
              "    </tr>\n",
              "    <tr>\n",
              "      <th>...</th>\n",
              "      <td>...</td>\n",
              "      <td>...</td>\n",
              "    </tr>\n",
              "    <tr>\n",
              "      <th>79</th>\n",
              "      <td>9.99</td>\n",
              "      <td>JJ_4</td>\n",
              "    </tr>\n",
              "    <tr>\n",
              "      <th>80</th>\n",
              "      <td>16.20</td>\n",
              "      <td>JJ_4</td>\n",
              "    </tr>\n",
              "    <tr>\n",
              "      <th>81</th>\n",
              "      <td>14.67</td>\n",
              "      <td>JJ_4</td>\n",
              "    </tr>\n",
              "    <tr>\n",
              "      <th>82</th>\n",
              "      <td>16.02</td>\n",
              "      <td>JJ_4</td>\n",
              "    </tr>\n",
              "    <tr>\n",
              "      <th>83</th>\n",
              "      <td>11.61</td>\n",
              "      <td>JJ_4</td>\n",
              "    </tr>\n",
              "  </tbody>\n",
              "</table>\n",
              "<p>84 rows × 2 columns</p>\n",
              "</div>"
            ],
            "text/plain": [
              "    profit columns\n",
              "0     0.71    JJ_1\n",
              "1     0.63    JJ_1\n",
              "2     0.85    JJ_1\n",
              "3     0.44    JJ_1\n",
              "4     0.61    JJ_1\n",
              "..     ...     ...\n",
              "79    9.99    JJ_4\n",
              "80   16.20    JJ_4\n",
              "81   14.67    JJ_4\n",
              "82   16.02    JJ_4\n",
              "83   11.61    JJ_4\n",
              "\n",
              "[84 rows x 2 columns]"
            ]
          },
          "execution_count": 17,
          "metadata": {},
          "output_type": "execute_result"
        }
      ],
      "source": [
        "from statsmodels.stats.multicomp import pairwise_tukeyhsd\n",
        "import pandas as pd\n",
        "\n",
        "\n",
        "df = pd.DataFrame({\"profit\": [0.71, 0.63, 0.85, 0.44, 0.61, 0.69, 0.92, 0.55, 0.72, 0.77, 0.92, 0.60, 0.83, 0.80, 1.00, 0.77, 0.92, 1.00, 1.24, 1.00, 1.16,1.30, 1.45, 1.25, 1.26, 1.38, 1.86, 1.56, 1.53, 1.59, 1.83, 1.86, 1.53, 2.07, 2.34, 2.25, 2.16, 2.43, 2.70, 2.25, 2.79, 3.42,\n",
        "                              3.69, 3.60, 3.60, 4.32, 4.32, 4.05, 4.86, 5.04, 5.04, 4.41,\n",
        "                              5.58, 5.85, 6.57, 5.31, 6.03, 6.39, 6.93, 5.85, 6.93, 7.74,\n",
        "                              7.83, 6.12, 7.74, 8.91, 8.28, 6.84, 9.54, 10.26, 9.54, 8.73, 11.88,\n",
        "                              12.06, 12.15, 8.91, 14.04, 12.96, 14.85, 9.99, 16.20, 14.67, 16.02, 11.61],\n",
        "                   \"columns\": np.repeat([\"JJ_1\", \"JJ_2\", \"JJ_3\", \"JJ_4\"], repeats=21)})\n",
        "df"
      ]
    },
    {
      "cell_type": "code",
      "execution_count": 18,
      "metadata": {
        "colab": {
          "base_uri": "https://localhost:8080/"
        },
        "id": "2RC9H7dyfG46",
        "outputId": "bb29f843-6259-40e5-e22d-4b5d67e6e684"
      },
      "outputs": [
        {
          "name": "stdout",
          "output_type": "stream",
          "text": [
            "Multiple Comparison of Means - Tukey HSD, FWER=0.05 \n",
            "====================================================\n",
            "group1 group2 meandiff p-adj   lower   upper  reject\n",
            "----------------------------------------------------\n",
            "  JJ_1   JJ_2   1.1276 0.1282 -0.2087   2.464  False\n",
            "  JJ_1   JJ_3     4.61    0.0  3.2737  5.9463   True\n",
            "  JJ_1   JJ_4  10.1986    0.0  8.8622 11.5349   True\n",
            "  JJ_2   JJ_3   3.4824    0.0   2.146  4.8187   True\n",
            "  JJ_2   JJ_4    9.071    0.0  7.7346 10.4073   True\n",
            "  JJ_3   JJ_4   5.5886    0.0  4.2522  6.9249   True\n",
            "----------------------------------------------------\n"
          ]
        }
      ],
      "source": [
        "tukey = pairwise_tukeyhsd(df['profit'], df['columns'], alpha=.05)\n",
        "print(tukey)"
      ]
    },
    {
      "cell_type": "markdown",
      "metadata": {
        "id": "Z4WGln43f4uS"
      },
      "source": [
        "## Задача 4\n",
        "\n",
        "\n",
        "Даны веса пациентов до и после диеты. Веса распределены нормально\n",
        "\n",
        "\n",
        "До 92.8 , 95.6, 92.1, 100.6, 96.2, 92.1, 96.7, 97.6, 97.0, 93.9\n",
        "\n",
        "\n",
        "После 87.1, 84.1, 81.3, 77.0, 86.0, 82.9, 83.0, 85.5, 85.2, 84.6\n",
        "\n",
        "\n",
        "Проверить гипотезу о, том что средний вес пациентов после диеты статистически\n",
        "меньше веса до диеты\n",
        "1. alternative='greater'\n",
        "2. alternative='less'\n",
        "3. alternative='two-sided'\n",
        "\n",
        "Объясните полученные результаты p-value для каждого случая"
      ]
    },
    {
      "cell_type": "code",
      "execution_count": 19,
      "metadata": {
        "colab": {
          "base_uri": "https://localhost:8080/"
        },
        "id": "hRqEMGx5gBfY",
        "outputId": "8e320c5b-bec7-4283-b1ca-4f0bacdce059"
      },
      "outputs": [
        {
          "data": {
            "text/plain": [
              "(10, 10)"
            ]
          },
          "execution_count": 19,
          "metadata": {},
          "output_type": "execute_result"
        }
      ],
      "source": [
        "do = np.array([92.8 , 95.6, 92.1, 100.6, 96.2, 92.1, 96.7, 97.6, 97.0, 93.9])\n",
        "posle = np.array([87.1, 84.1, 81.3, 77.0, 86.0, 82.9, 83.0, 85.5, 85.2, 84.6])\n",
        "len(do), len(posle)"
      ]
    },
    {
      "cell_type": "code",
      "execution_count": 20,
      "metadata": {
        "colab": {
          "base_uri": "https://localhost:8080/"
        },
        "id": "tqiWMqtEgRQF",
        "outputId": "37c59543-fa4e-4bb1-8d91-3e9d8a1e904b"
      },
      "outputs": [
        {
          "data": {
            "text/plain": [
              "(95.46000000000001, 83.67)"
            ]
          },
          "execution_count": 20,
          "metadata": {},
          "output_type": "execute_result"
        }
      ],
      "source": [
        "do_mean = np.mean(do)\n",
        "posle_mean = np.mean(posle)\n",
        "do_mean, posle_mean"
      ]
    },
    {
      "cell_type": "code",
      "execution_count": 21,
      "metadata": {
        "id": "2KHFg_VEgp0i"
      },
      "outputs": [],
      "source": [
        "std_do = np.std(do, ddof=1)\n",
        "std_posle = np.std(posle, ddof=1)"
      ]
    },
    {
      "cell_type": "code",
      "execution_count": 22,
      "metadata": {
        "colab": {
          "base_uri": "https://localhost:8080/"
        },
        "id": "JYP7NL2dhw_A",
        "outputId": "75a5f5ae-a080-44d3-9d21-a0e85012cbe4"
      },
      "outputs": [
        {
          "data": {
            "text/plain": [
              "TtestResult(statistic=9.364978467151436, pvalue=2.4273144030688905e-08, df=18.0)"
            ]
          },
          "execution_count": 22,
          "metadata": {},
          "output_type": "execute_result"
        }
      ],
      "source": [
        "stats.ttest_ind(do, posle)"
      ]
    },
    {
      "cell_type": "code",
      "execution_count": 23,
      "metadata": {
        "colab": {
          "base_uri": "https://localhost:8080/"
        },
        "id": "fsjoBlQxh-fc",
        "outputId": "25625b47-a9a7-4a43-93e2-fa7a8d94d60e"
      },
      "outputs": [
        {
          "data": {
            "text/plain": [
              "TtestResult(statistic=7.972831441034037, pvalue=2.274442744681604e-05, df=9)"
            ]
          },
          "execution_count": 23,
          "metadata": {},
          "output_type": "execute_result"
        }
      ],
      "source": [
        "stats.ttest_rel(do, posle) # среднее"
      ]
    }
  ],
  "metadata": {
    "colab": {
      "provenance": []
    },
    "kernelspec": {
      "display_name": "Python 3",
      "name": "python3"
    },
    "language_info": {
      "codemirror_mode": {
        "name": "ipython",
        "version": 3
      },
      "file_extension": ".py",
      "mimetype": "text/x-python",
      "name": "python",
      "nbconvert_exporter": "python",
      "pygments_lexer": "ipython3",
      "version": "3.11.3"
    }
  },
  "nbformat": 4,
  "nbformat_minor": 0
}
