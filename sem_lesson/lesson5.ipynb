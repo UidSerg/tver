{
 "cells": [
  {
   "cell_type": "code",
   "execution_count": 3,
   "metadata": {},
   "outputs": [
    {
     "name": "stdout",
     "output_type": "stream",
     "text": [
      "10.110000000000001\n",
      "0.4683238972412927\n",
      "12\n",
      "0.8136488014166606\n"
     ]
    }
   ],
   "source": [
    "import numpy as np\n",
    "##from scipy import stats\n",
    "import scipy.stats as stats\n",
    "x = np.array([10.50, 9.94, 10.42, 10.47, 10.4, 9.93, 9.17, 9.26, 10.11, 10.15, 10.5, 10.47])\n",
    "print(np.mean(x))\n",
    "print(np.std(x, ddof=1))\n",
    "print(len(x))\n",
    "t = (np.mean(x) - 10)/(np.std(x, ddof=1)/np.sqrt(len(x)))\n",
    "print(t)"
   ]
  },
  {
   "cell_type": "code",
   "execution_count": 5,
   "metadata": {},
   "outputs": [
    {
     "name": "stdout",
     "output_type": "stream",
     "text": [
      "0.25027170967698004\n"
     ]
    }
   ],
   "source": [
    "x = np.array([172, 177, 158, 170, 178, 175, 164, 160, 169, 165])\n",
    "y = np.array([173, 175, 162, 174, 175, 168, 155, 170, 160])\n",
    "\n",
    "\n",
    "def D_vibor(arr, mea):\n",
    "    D = 0\n",
    "    for i in arr:\n",
    "        D+=(mea-i)**2\n",
    "    D /=(len(arr)-1)\n",
    "    return D**0.5\n",
    "\n",
    "x_mean= np.mean(x)\n",
    "y_mean= np.mean(y)\n",
    "a =0.05\n",
    "std_x = D_vibor(x, x_mean)\n",
    "std_y = D_vibor(y, y_mean)\n",
    "D = (std_x ** 2 + std_y**2)/2\n",
    "t= (x_mean-y_mean)/ (2*D/len(x))**0.5\n",
    "print(t)\n"
   ]
  }
 ],
 "metadata": {
  "kernelspec": {
   "display_name": "Python 3",
   "language": "python",
   "name": "python3"
  },
  "language_info": {
   "codemirror_mode": {
    "name": "ipython",
    "version": 3
   },
   "file_extension": ".py",
   "mimetype": "text/x-python",
   "name": "python",
   "nbconvert_exporter": "python",
   "pygments_lexer": "ipython3",
   "version": "3.11.3"
  },
  "orig_nbformat": 4
 },
 "nbformat": 4,
 "nbformat_minor": 2
}
