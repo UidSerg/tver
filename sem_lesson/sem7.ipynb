{
 "cells": [
  {
   "cell_type": "code",
   "execution_count": 1,
   "metadata": {},
   "outputs": [
    {
     "data": {
      "text/plain": [
       "7"
      ]
     },
     "execution_count": 1,
     "metadata": {},
     "output_type": "execute_result"
    }
   ],
   "source": [
    "import numpy as np \n",
    "group_1= np.array([1000, 1380, 1200])\n",
    "group_2= np.array([1400, 1600, 1180, 1220])\n",
    "gr =np.concatenate((group_1,group_2))\n",
    "gr= np.sort(gr)\n",
    "gr\n",
    "x= len(gr)\n",
    "x"
   ]
  },
  {
   "cell_type": "code",
   "execution_count": 2,
   "metadata": {},
   "outputs": [
    {
     "name": "stdout",
     "output_type": "stream",
     "text": [
      "35.0\n"
     ]
    }
   ],
   "source": [
    "from math import factorial\n",
    "# хотим проверить что событие произойдет k раз из n\n",
    "def comb(n, k):\n",
    "    return factorial(n)/(factorial(k)*factorial(n-k))\n",
    "n = 7\n",
    "k = 3\n",
    "print(comb(n,k))"
   ]
  },
  {
   "cell_type": "markdown",
   "metadata": {},
   "source": [
    "1. 123\n",
    "2. 124\n",
    "3. 125\n",
    "4. 126\n",
    "5. 127\n",
    "6. 134\n",
    "7. 135\n",
    "8. 136\n",
    "9. 137\n",
    "10. 145\n",
    "11. 146\n",
    "12. 147\n",
    "13. 156\n",
    "14. 157\n",
    "15. 167\n",
    "16. 234\n",
    "17. 235\n",
    "18. 236\n",
    "19. 237\n",
    "20. 245\n",
    "21. 246\n",
    "22. 247\n",
    "23. 256\n",
    "24. 257\n",
    "25. 267\n",
    "26. 345\n",
    "27. 346\n",
    "28. 347\n",
    "29. 356\n",
    "30. 357\n",
    "31. 367 - \n",
    "32. 456 - 15\n",
    "33. 457 - 16\n",
    "34. 467 - 17\n",
    "35. 567 - 18\n",
    "\n",
    "6: 1 раз\n",
    "7: 1 раз\n",
    "8: 2 раза\n",
    "9: 3 раза\n",
    "10: 4 раза\n",
    "11: 4 раза\n",
    "12: 5 раз\n",
    "13: 4 раза\n",
    "14: 4 раза\n",
    "15: 3 раза\n",
    "16: 2 раза\n",
    "17: 1 раз\n",
    "18: 1 раз"
   ]
  },
  {
   "cell_type": "code",
   "execution_count": 3,
   "metadata": {},
   "outputs": [
    {
     "data": {
      "text/plain": [
       "0.02857142857142857"
      ]
     },
     "execution_count": 3,
     "metadata": {},
     "output_type": "execute_result"
    }
   ],
   "source": [
    "s = 1/35\n",
    "s"
   ]
  },
  {
   "cell_type": "markdown",
   "metadata": {},
   "source": [
    "Средние расходы на обследование одного больного до ознакомления с расходами коллег\n",
    "\n",
    "X= np.array([20,17, 14, 42, 50, 62, 8, 49, 81, 54, 48, 55, 56])\n",
    "\n",
    "Y= np.array ([20, 26, 1, 24, 1, 47, 15, 7, 65, 9, 21, 36, 30])\n",
    "\n",
    "Средние расходы на лечение одного больного до ознакомления с расходами коллег\n",
    "\n",
    "X= np.array([ 32, 41, 51, 29, 76, 47, 60, 58, 40, 64, 73, 66, 73])\n",
    "\n",
    "Y= np.array ([42, 90, 71, 47, 56, 43, 137, 63, 28, 60, 87, 69, 50])\n",
    "\n",
    "Произошли ли изменения на расходы и лечение?\n"
   ]
  },
  {
   "cell_type": "code",
   "execution_count": 13,
   "metadata": {},
   "outputs": [
    {
     "name": "stdout",
     "output_type": "stream",
     "text": [
      "WilcoxonResult(statistic=3.0, pvalue=0.004741768038406971)\n"
     ]
    },
    {
     "data": {
      "text/plain": [
       "array([ 0,  9, 13, 18, 49, 15,  7, 42, 16, 45, 27, 19, 26])"
      ]
     },
     "execution_count": 13,
     "metadata": {},
     "output_type": "execute_result"
    }
   ],
   "source": [
    "import scipy.stats as stats\n",
    "X= np.array([20, 17, 14, 42, 50, 62, 8, 49, 81, 54, 48, 55, 56])\n",
    "Y= np.array ([20, 26, 1, 24, 1, 47, 15, 7, 65, 9, 21, 36, 30])\n",
    "print (stats.wilcoxon(X,Y))\n",
    "delta=Y-X\n",
    "\n",
    "for i in delta:\n",
    "    delta = abs(delta)\n",
    "delta"
   ]
  },
  {
   "cell_type": "code",
   "execution_count": 5,
   "metadata": {},
   "outputs": [
    {
     "data": {
      "text/plain": [
       "array([ 0,  7,  9, 13, 15, 16, 18, 19, 26, 27, 42, 45, 49])"
      ]
     },
     "execution_count": 5,
     "metadata": {},
     "output_type": "execute_result"
    }
   ],
   "source": [
    "gr= np.sort(delta)\n",
    "gr"
   ]
  },
  {
   "cell_type": "code",
   "execution_count": 6,
   "metadata": {},
   "outputs": [
    {
     "name": "stdout",
     "output_type": "stream",
     "text": [
      "WilcoxonResult(statistic=31.5, pvalue=0.339599609375)\n"
     ]
    },
    {
     "data": {
      "text/plain": [
       "array([10, 49, 20, 18, 20,  4, 77,  5, 12,  4, 14,  3, 23])"
      ]
     },
     "execution_count": 6,
     "metadata": {},
     "output_type": "execute_result"
    }
   ],
   "source": [
    "X= np.array([ 32, 41, 51, 29, 76, 47, 60, 58, 40, 64, 73, 66, 73])\n",
    "Y= np.array ([42, 90, 71, 47, 56, 43, 137, 63, 28, 60, 87, 69, 50])\n",
    "print (stats.wilcoxon(X,Y))\n",
    "delta=Y-X\n",
    "\n",
    "for i in delta:\n",
    "    delta = abs(delta)\n",
    "delta\n"
   ]
  },
  {
   "cell_type": "code",
   "execution_count": 7,
   "metadata": {},
   "outputs": [
    {
     "data": {
      "text/plain": [
       "array([ 3,  4,  4,  5, 10, 12, 14, 18, 20, 20, 23, 49, 77])"
      ]
     },
     "execution_count": 7,
     "metadata": {},
     "output_type": "execute_result"
    }
   ],
   "source": [
    "gr= np.sort(delta)\n",
    "gr"
   ]
  },
  {
   "cell_type": "code",
   "execution_count": 8,
   "metadata": {},
   "outputs": [
    {
     "data": {
      "text/plain": [
       "31.5"
      ]
     },
     "execution_count": 8,
     "metadata": {},
     "output_type": "execute_result"
    }
   ],
   "source": [
    "w=9.5+2.5+6+2.5+11\n",
    "w"
   ]
  },
  {
   "cell_type": "code",
   "execution_count": 9,
   "metadata": {},
   "outputs": [
    {
     "name": "stdout",
     "output_type": "stream",
     "text": [
      "[3.3 3.5 3.6 4.9 5.  5.1 5.4 5.6 7.7 8.6 8.6 8.8]\n"
     ]
    }
   ],
   "source": [
    "A = np.array([3.5, 3.3, 4.9, 3.6])\n",
    "B = np.array([8.6, 5.4, 8.8, 5.6])\n",
    "C = np.array([5.1, 8.6, 7.7, 5.0])\n",
    "gr = np.concatenate((A,B,C))\n",
    "gr = np.sort(gr)\n",
    "print(gr)"
   ]
  },
  {
   "cell_type": "code",
   "execution_count": 10,
   "metadata": {},
   "outputs": [],
   "source": [
    "R1= 4\n",
    "R2 = 11\n",
    "R3 = 9\n",
    "## R = n(k+1)/2= 4*(3+1)/2=8\n",
    "Rs= 8"
   ]
  },
  {
   "cell_type": "code",
   "execution_count": 11,
   "metadata": {},
   "outputs": [
    {
     "data": {
      "text/plain": [
       "6.5"
      ]
     },
     "execution_count": 11,
     "metadata": {},
     "output_type": "execute_result"
    }
   ],
   "source": [
    "x= (12/(4*3*4))*(16+9+1)\n",
    "x"
   ]
  },
  {
   "cell_type": "code",
   "execution_count": 12,
   "metadata": {},
   "outputs": [
    {
     "data": {
      "text/plain": [
       "12.02000000000001"
      ]
     },
     "execution_count": 12,
     "metadata": {},
     "output_type": "execute_result"
    }
   ],
   "source": [
    "h= (12/(15*16))*((16**2+39**2+65**2)/5)-48\n",
    "h"
   ]
  }
 ],
 "metadata": {
  "kernelspec": {
   "display_name": "Python 3",
   "language": "python",
   "name": "python3"
  },
  "language_info": {
   "codemirror_mode": {
    "name": "ipython",
    "version": 3
   },
   "file_extension": ".py",
   "mimetype": "text/x-python",
   "name": "python",
   "nbconvert_exporter": "python",
   "pygments_lexer": "ipython3",
   "version": "3.11.3"
  }
 },
 "nbformat": 4,
 "nbformat_minor": 2
}
